{
  "nbformat": 4,
  "nbformat_minor": 0,
  "metadata": {
    "colab": {
      "provenance": [],
      "authorship_tag": "ABX9TyOUUDVMRBFKb5UQ034CQjOe",
      "include_colab_link": true
    },
    "kernelspec": {
      "name": "python3",
      "display_name": "Python 3"
    },
    "language_info": {
      "name": "python"
    }
  },
  "cells": [
    {
      "cell_type": "markdown",
      "metadata": {
        "id": "view-in-github",
        "colab_type": "text"
      },
      "source": [
        "<a href=\"https://colab.research.google.com/github/Bheiligman/BTE320/blob/main/Parking_Garage.ipynb\" target=\"_parent\"><img src=\"https://colab.research.google.com/assets/colab-badge.svg\" alt=\"Open In Colab\"/></a>"
      ]
    },
    {
      "cell_type": "code",
      "execution_count": 1,
      "metadata": {
        "colab": {
          "base_uri": "https://localhost:8080/"
        },
        "id": "shI0_bEN3p_E",
        "outputId": "02a82c5b-fa4e-43be-b228-4435bc372ec7"
      },
      "outputs": [
        {
          "output_type": "stream",
          "name": "stdout",
          "text": [
            "1 $10.0\n",
            "2 $10.0\n",
            "3 $12.5\n",
            "4 $15.0\n",
            "5 $17.5\n",
            "6 $20.0\n",
            "7 $20.0\n",
            "8 $20.0\n"
          ]
        }
      ],
      "source": [
        "for hour in range(1,9):\n",
        "  fee = 5+2.5*hour\n",
        "  if fee<10:\n",
        "    fee = 10.0\n",
        "  elif fee>20:\n",
        "    fee = 20.0\n",
        "  print (f'{hour} ${fee}')"
      ]
    }
  ]
}