{
  "nbformat": 4,
  "nbformat_minor": 0,
  "metadata": {
    "colab": {
      "provenance": [],
      "authorship_tag": "ABX9TyMBjRQzUUm7yAN64vnAjGvz",
      "include_colab_link": true
    },
    "kernelspec": {
      "name": "python3",
      "display_name": "Python 3"
    },
    "language_info": {
      "name": "python"
    }
  },
  "cells": [
    {
      "cell_type": "markdown",
      "metadata": {
        "id": "view-in-github",
        "colab_type": "text"
      },
      "source": [
        "<a href=\"https://colab.research.google.com/github/Bheiligman/BTE320/blob/main/InClass4_9_24.ipynb\" target=\"_parent\"><img src=\"https://colab.research.google.com/assets/colab-badge.svg\" alt=\"Open In Colab\"/></a>"
      ]
    },
    {
      "cell_type": "code",
      "execution_count": 7,
      "metadata": {
        "colab": {
          "base_uri": "https://localhost:8080/"
        },
        "id": "ujEKfrGw2vyc",
        "outputId": "faa360ae-76d3-436e-8d1f-99d8735e9e54"
      },
      "outputs": [
        {
          "output_type": "stream",
          "name": "stdout",
          "text": [
            "Error List has 0 Length\n",
            "Program Ends\n"
          ]
        }
      ],
      "source": [
        "def Average_Value_of_List(alist):\n",
        "  Sum = 0\n",
        "\n",
        "  try:\n",
        "    for value in alist:\n",
        "      Sum += Value\n",
        "\n",
        "    Average = Sum/len(alist)\n",
        "    print(f'Average Value is {Average}')\n",
        "  except TypeError:\n",
        "    print(f'Error List does not only contain numbers')\n",
        "  except ZeroDivisionError:\n",
        "    print(f'Error List has 0 Length')\n",
        "  except:\n",
        "    print(f'program encountered an unknown error')\n",
        "  print(f'Program Ends')\n",
        "\n",
        "alist = []\n",
        "Average_Value_of_List(alist)\n"
      ]
    }
  ]
}